{
 "cells": [
  {
   "cell_type": "code",
   "execution_count": 1,
   "id": "b5ccc9c6",
   "metadata": {},
   "outputs": [
    {
     "name": "stdout",
     "output_type": "stream",
     "text": [
      "Num GPUs Available:  1\n"
     ]
    }
   ],
   "source": [
    "import tensorflow as tf\n",
    "print(\"Num GPUs Available: \", len(tf.config.list_physical_devices('GPU')))"
   ]
  },
  {
   "cell_type": "code",
   "execution_count": 2,
   "id": "63527643",
   "metadata": {},
   "outputs": [
    {
     "data": {
      "text/plain": [
       "True"
      ]
     },
     "execution_count": 2,
     "metadata": {},
     "output_type": "execute_result"
    }
   ],
   "source": [
    "tf.test.is_built_with_cuda()"
   ]
  },
  {
   "cell_type": "code",
   "execution_count": 3,
   "id": "e6044e8a",
   "metadata": {},
   "outputs": [
    {
     "name": "stdout",
     "output_type": "stream",
     "text": [
      "2.10.1\n"
     ]
    }
   ],
   "source": [
    "print(tf.version.VERSION)"
   ]
  },
  {
   "cell_type": "markdown",
   "id": "7eb39a71",
   "metadata": {},
   "source": [
    "# Train Code"
   ]
  },
  {
   "cell_type": "code",
   "execution_count": 1,
   "id": "5b922080",
   "metadata": {},
   "outputs": [
    {
     "name": "stdout",
     "output_type": "stream",
     "text": [
      "Found 5490 images belonging to 18 classes.\n",
      "Found 1361 images belonging to 18 classes.\n",
      "Found 1914 images belonging to 18 classes.\n",
      "Model: \"sequential\"\n",
      "_________________________________________________________________\n",
      " Layer (type)                Output Shape              Param #   \n",
      "=================================================================\n",
      " conv2d (Conv2D)             (None, 398, 298, 256)     7168      \n",
      "                                                                 \n",
      " max_pooling2d (MaxPooling2D  (None, 199, 149, 256)    0         \n",
      " )                                                               \n",
      "                                                                 \n",
      " conv2d_1 (Conv2D)           (None, 197, 147, 256)     590080    \n",
      "                                                                 \n",
      " max_pooling2d_1 (MaxPooling  (None, 98, 73, 256)      0         \n",
      " 2D)                                                             \n",
      "                                                                 \n",
      " conv2d_2 (Conv2D)           (None, 96, 71, 128)       295040    \n",
      "                                                                 \n",
      " max_pooling2d_2 (MaxPooling  (None, 48, 35, 128)      0         \n",
      " 2D)                                                             \n",
      "                                                                 \n",
      " conv2d_3 (Conv2D)           (None, 46, 33, 128)       147584    \n",
      "                                                                 \n",
      " max_pooling2d_3 (MaxPooling  (None, 23, 16, 128)      0         \n",
      " 2D)                                                             \n",
      "                                                                 \n",
      " flatten (Flatten)           (None, 47104)             0         \n",
      "                                                                 \n",
      " dense (Dense)               (None, 128)               6029440   \n",
      "                                                                 \n",
      " dense_1 (Dense)             (None, 64)                8256      \n",
      "                                                                 \n",
      " dense_2 (Dense)             (None, 18)                1170      \n",
      "                                                                 \n",
      "=================================================================\n",
      "Total params: 7,078,738\n",
      "Trainable params: 7,078,738\n",
      "Non-trainable params: 0\n",
      "_________________________________________________________________\n",
      "Epoch 1/5\n",
      "549/549 [==============================] - 294s 392ms/step - loss: 2.8610 - accuracy: 0.0639 - val_loss: 2.8410 - val_accuracy: 0.0647\n",
      "Epoch 2/5\n",
      "549/549 [==============================] - 212s 385ms/step - loss: 2.8172 - accuracy: 0.0885 - val_loss: 3.0028 - val_accuracy: 0.0970\n",
      "Epoch 3/5\n",
      "549/549 [==============================] - 210s 382ms/step - loss: 2.6052 - accuracy: 0.1441 - val_loss: 3.2877 - val_accuracy: 0.0617\n",
      "Epoch 4/5\n",
      "549/549 [==============================] - 209s 381ms/step - loss: 2.4256 - accuracy: 0.1761 - val_loss: 3.3350 - val_accuracy: 0.0749\n",
      "Epoch 5/5\n",
      "549/549 [==============================] - 210s 383ms/step - loss: 2.2958 - accuracy: 0.2060 - val_loss: 3.7823 - val_accuracy: 0.1161\n",
      "Train accuracy :  0.20601092278957367\n",
      "Val accuracy :  0.11609110981225967\n",
      "Train loss :  2.2958192825317383\n",
      "Val loss :  3.7822728157043457\n",
      "383/383 [==============================] - 36s 90ms/step - loss: 3.6834 - accuracy: 0.1181\n",
      " \n",
      "Loss for Testset: 3.6833701133728027\n",
      "Accuracy for Testset: 0.11807732284069061\n",
      " \n"
     ]
    }
   ],
   "source": [
    "import numpy as np\n",
    "import tensorflow as tf\n",
    "from tensorflow import keras\n",
    "from keras import models\n",
    "from keras import layers\n",
    "from keras import losses\n",
    "from tensorflow.keras.preprocessing.image import ImageDataGenerator\n",
    "\n",
    "# # Load the dataset\n",
    "# # Assumes you have a dataset of hand gesture images stored in 'data' folder with corresponding labels as subfolders\n",
    "# data_dir = 'Train/'\n",
    "\n",
    "# # Data preprocessing\n",
    "# image_size = (380, 250)\n",
    "# batch_size = 50\n",
    "\n",
    "# train_ds = tf.keras.preprocessing.image_dataset_from_directory(\n",
    "#     data_dir,\n",
    "#     validation_split=0.2,\n",
    "#     subset=\"training\",\n",
    "#     seed=123,\n",
    "#     image_size=image_size,\n",
    "#     batch_size=batch_size,\n",
    "#     label_mode='categorical'\n",
    "# )\n",
    "image_datagen = ImageDataGenerator(rescale=1./255,\n",
    "                                  #rotation_range=20,\n",
    "                                  width_shift_range=0.2,\n",
    "                                  height_shift_range=0.2,\n",
    "                                  shear_range=0.2,\n",
    "                                  zoom_range=0.2,\n",
    "                                  horizontal_flip=False,\n",
    "                                  dtype='float32',\n",
    "                                  validation_split=0.2)\n",
    "\n",
    "data_dir = 'Train/'\n",
    "test_data_dir = 'Test/'\n",
    "\n",
    "train_ds = image_datagen.flow_from_directory(    data_dir,\n",
    "                                                 target_size = (400, 300),\n",
    "                                                 batch_size  = 10,\n",
    "                                                 class_mode  = 'categorical',\n",
    "                                                 subset='training'\n",
    "                                                 )\n",
    "\n",
    "# val_ds = tf.keras.preprocessing.image_dataset_from_directory(\n",
    "#     data_dir,\n",
    "#     validation_split=0.2,\n",
    "#     subset=\"validation\",\n",
    "#     seed=123,\n",
    "#     image_size=image_size,\n",
    "#     batch_size=batch_size,\n",
    "#     label_mode='categorical'\n",
    "# )\n",
    "\n",
    "validation_ds = image_datagen.flow_from_directory(   data_dir,\n",
    "                                                     target_size = (400, 300),\n",
    "                                                     batch_size  = 10,\n",
    "                                                     class_mode  = 'categorical',\n",
    "                                                     subset='validation'\n",
    "                                                     )\n",
    "\n",
    "\n",
    "test_ds = image_datagen.flow_from_directory(     test_data_dir,\n",
    "                                                 target_size = (400, 300),\n",
    "                                                 batch_size  = 5,\n",
    "                                                 class_mode  = 'categorical',\n",
    "                                                 )\n",
    "\n",
    "#class_names = train_ds.class_names\n",
    "#num_classes = 16 #len(class_names)\n",
    "#print(class_names)\n",
    "\n",
    "# # Data augmentation\n",
    "# data_augmentation = keras.Sequential(\n",
    "#     [\n",
    "#         layers.experimental.preprocessing.Rescaling(1.0 / 255),\n",
    "#         #layers.experimental.preprocessing.RandomFlip(\"horizontal\"),\n",
    "#         #layers.experimental.preprocessing.RandomRotation(0.1),\n",
    "#         #layers.experimental.preprocessing.RandomZoom(0.1),\n",
    "#     ]\n",
    "# )\n",
    "\n",
    "\n",
    "# Build the CNN model\n",
    "model = keras.Sequential([\n",
    "    #data_augmentation,\n",
    "    layers.Conv2D(256, kernel_size=(3, 3), activation='relu', input_shape=(400, 300, 3)),\n",
    "    layers.MaxPooling2D((2, 2)),\n",
    "    layers.Conv2D(256, kernel_size=(3, 3), activation='relu'),\n",
    "    layers.MaxPooling2D((2, 2)),\n",
    "    layers.Conv2D(128, kernel_size=(3, 3), activation='relu'),\n",
    "    layers.MaxPooling2D((2, 2)),\n",
    "    layers.Conv2D(128, kernel_size=(3, 3), activation='relu'),\n",
    "    layers.MaxPooling2D((2, 2)),\n",
    "    layers.Flatten(),\n",
    "    layers.Dense(128, activation='relu'),\n",
    "    layers.Dense(64, activation='relu'),\n",
    "    #layers.Dense(64, activation='relu'),\n",
    "    #layers.Dense(64, activation='relu'),\n",
    "    layers.Dense(18, activation='softmax')\n",
    "])\n",
    "\n",
    "model.summary()\n",
    "\n",
    "# Compile the model\n",
    "model.compile(optimizer='adam',\n",
    "              #loss=tf.keras.losses.SparseCategoricalCrossentropy(from_logits=True),\n",
    "              loss = 'categorical_crossentropy',\n",
    "              #loss=tf.keras.losses.CategoricalCrossentropy(from_logits=True),\n",
    "              metrics=['accuracy'])\n",
    "\n",
    "# Train the model\n",
    "#epochs = 5\n",
    "#model.fit(train_ds, validation_data=val_ds, epochs=epochs)\n",
    "#model.fit(train_ds, validation_data = validation_ds, epochs = epochs)\n",
    "\n",
    "# Save the trained model\n",
    "#model.save(\"hand_gesture_model\")\n",
    "\n",
    "# start to train the model\n",
    "history = model.fit(    train_ds,\n",
    "                        validation_data  = validation_ds,\n",
    "                        #validation_split=0.2,\n",
    "                        epochs           = 5 )\n",
    "\n",
    "print(\"Train accuracy : \", str(history.history['accuracy'][-1]))\n",
    "print(\"Val accuracy : \", str(history.history['val_accuracy'][-1]))\n",
    "\n",
    "print(\"Train loss : \", str(history.history['loss'][-1]))\n",
    "print(\"Val loss : \", str(history.history['val_loss'][-1]))\n",
    "\n",
    "\n",
    "# To show the evaluation resuls of the Test set\n",
    "test_loss, test_acc = model.evaluate(test_ds)\n",
    "print(' ')\n",
    "print('Loss for Testset:', test_loss)\n",
    "print('Accuracy for Testset:', test_acc)\n",
    "print(' ')\n"
   ]
  },
  {
   "cell_type": "code",
   "execution_count": null,
   "id": "e89ffff3",
   "metadata": {},
   "outputs": [],
   "source": [
    "# ---------------------------------------------------------------------------------------------------------------------\n",
    "To plot result figures\n",
    "import matplotlib.pyplot    as plt\n",
    "\n",
    "#---------- loss figure -----------------\n",
    "plt.plot(history.history['loss'])\n",
    "plt.plot(history.history[\"val_loss\"])\n",
    "plt.title('train_loss')\n",
    "plt.ylabel('loss')\n",
    "plt.xlabel('Epoch')\n",
    "plt.legend(['train', 'val'], loc='upper right')\n",
    "plt.show()\n",
    "#------------------------------------\n",
    "plt.clf()\n",
    "#-------------- accuracy figure -------\n",
    "plt.plot(history.history['accuracy'])\n",
    "plt.plot(history.history['val_accuracy'])\n",
    "plt.title('model accuracy')\n",
    "plt.ylabel('accuracy')\n",
    "plt.xlabel('epoch')\n",
    "plt.legend(['train', 'val'], loc='upper left')\n",
    "plt.show()\n",
    "#-----------------------------------\n"
   ]
  },
  {
   "cell_type": "code",
   "execution_count": 1,
   "id": "275f4874",
   "metadata": {},
   "outputs": [
    {
     "ename": "NameError",
     "evalue": "name 'ImageDataGenerator' is not defined",
     "output_type": "error",
     "traceback": [
      "\u001b[1;31m---------------------------------------------------------------------------\u001b[0m",
      "\u001b[1;31mNameError\u001b[0m                                 Traceback (most recent call last)",
      "\u001b[1;32m~\\AppData\\Local\\Temp\\ipykernel_2024\\650268144.py\u001b[0m in \u001b[0;36m<module>\u001b[1;34m\u001b[0m\n\u001b[0;32m      2\u001b[0m \u001b[1;33m\u001b[0m\u001b[0m\n\u001b[0;32m      3\u001b[0m \u001b[1;31m# ImageDataGenerator can create an object used to generate batches of image data\u001b[0m\u001b[1;33m\u001b[0m\u001b[1;33m\u001b[0m\u001b[1;33m\u001b[0m\u001b[0m\n\u001b[1;32m----> 4\u001b[1;33m \u001b[0mimage_datagen\u001b[0m \u001b[1;33m=\u001b[0m \u001b[0mImageDataGenerator\u001b[0m\u001b[1;33m(\u001b[0m\u001b[0mrescale\u001b[0m \u001b[1;33m=\u001b[0m \u001b[1;36m1.\u001b[0m\u001b[1;33m/\u001b[0m\u001b[1;36m255\u001b[0m\u001b[1;33m,\u001b[0m \u001b[0mdtype\u001b[0m\u001b[1;33m=\u001b[0m\u001b[1;34m'float32'\u001b[0m\u001b[1;33m,\u001b[0m \u001b[0mvalidation_split\u001b[0m\u001b[1;33m=\u001b[0m\u001b[1;36m0.2\u001b[0m\u001b[1;33m)\u001b[0m\u001b[1;33m\u001b[0m\u001b[1;33m\u001b[0m\u001b[0m\n\u001b[0m\u001b[0;32m      5\u001b[0m \u001b[0mdata_dir\u001b[0m \u001b[1;33m=\u001b[0m \u001b[1;34m'Train/'\u001b[0m\u001b[1;33m\u001b[0m\u001b[1;33m\u001b[0m\u001b[0m\n\u001b[0;32m      6\u001b[0m \u001b[1;31m# The ImageDataGenerator class has the method flow_from_directory()\u001b[0m\u001b[1;33m\u001b[0m\u001b[1;33m\u001b[0m\u001b[1;33m\u001b[0m\u001b[0m\n",
      "\u001b[1;31mNameError\u001b[0m: name 'ImageDataGenerator' is not defined"
     ]
    }
   ],
   "source": [
    "#from tensorflow.keras.preprocessing.image import ImageDataGenerator\n",
    "\n",
    "# ImageDataGenerator can create an object used to generate batches of image data\n",
    "image_datagen = ImageDataGenerator(rescale = 1./255, dtype='float32', validation_split=0.2)\n",
    "data_dir = 'Train/'\n",
    "# The ImageDataGenerator class has the method flow_from_directory() \n",
    "# wihch can read the images from folders containing images.\n",
    "train_set = image_datagen.flow_from_directory(  data_dir,\n",
    "                                                 target_size = (960, 540),\n",
    "                                                 batch_size  = 10,\n",
    "                                                 class_mode  = 'categorical',\n",
    "                                                 subset='training'\n",
    "                                                 )\n",
    "\n",
    "validation_set = image_datagen.flow_from_directory( data_dir,\n",
    "                                                 target_size = (960, 540),\n",
    "                                                 batch_size  = 10,\n",
    "                                                 class_mode  = 'categorical',\n",
    "                                                 subset='validation'\n",
    "                                                 )\n",
    "\n",
    "test_set = image_datagen.flow_from_directory('   Test/',\n",
    "                                                 target_size = (960, 540),\n",
    "                                                 batch_size  = 10,\n",
    "                                                 class_mode  = 'categorical',\n",
    "                                                 )"
   ]
  },
  {
   "cell_type": "markdown",
   "id": "265d1704",
   "metadata": {},
   "source": [
    "# Test Code"
   ]
  },
  {
   "cell_type": "code",
   "execution_count": 9,
   "id": "bd10f463",
   "metadata": {},
   "outputs": [
    {
     "name": "stdout",
     "output_type": "stream",
     "text": [
      "Found 1039 images belonging to 16 classes.\n"
     ]
    },
    {
     "ename": "InvalidArgumentError",
     "evalue": "Graph execution error:\n\nDetected at node 'sequential/flatten/Reshape' defined at (most recent call last):\n    File \"C:\\Users\\SHAKIB\\anaconda3\\envs\\new_gpu\\lib\\runpy.py\", line 193, in _run_module_as_main\n      \"__main__\", mod_spec)\n    File \"C:\\Users\\SHAKIB\\anaconda3\\envs\\new_gpu\\lib\\runpy.py\", line 85, in _run_code\n      exec(code, run_globals)\n    File \"C:\\Users\\SHAKIB\\anaconda3\\envs\\new_gpu\\lib\\site-packages\\ipykernel_launcher.py\", line 17, in <module>\n      app.launch_new_instance()\n    File \"C:\\Users\\SHAKIB\\anaconda3\\envs\\new_gpu\\lib\\site-packages\\traitlets\\config\\application.py\", line 992, in launch_instance\n      app.start()\n    File \"C:\\Users\\SHAKIB\\anaconda3\\envs\\new_gpu\\lib\\site-packages\\ipykernel\\kernelapp.py\", line 712, in start\n      self.io_loop.start()\n    File \"C:\\Users\\SHAKIB\\anaconda3\\envs\\new_gpu\\lib\\site-packages\\tornado\\platform\\asyncio.py\", line 215, in start\n      self.asyncio_loop.run_forever()\n    File \"C:\\Users\\SHAKIB\\anaconda3\\envs\\new_gpu\\lib\\asyncio\\base_events.py\", line 541, in run_forever\n      self._run_once()\n    File \"C:\\Users\\SHAKIB\\anaconda3\\envs\\new_gpu\\lib\\asyncio\\base_events.py\", line 1786, in _run_once\n      handle._run()\n    File \"C:\\Users\\SHAKIB\\anaconda3\\envs\\new_gpu\\lib\\asyncio\\events.py\", line 88, in _run\n      self._context.run(self._callback, *self._args)\n    File \"C:\\Users\\SHAKIB\\anaconda3\\envs\\new_gpu\\lib\\site-packages\\ipykernel\\kernelbase.py\", line 510, in dispatch_queue\n      await self.process_one()\n    File \"C:\\Users\\SHAKIB\\anaconda3\\envs\\new_gpu\\lib\\site-packages\\ipykernel\\kernelbase.py\", line 499, in process_one\n      await dispatch(*args)\n    File \"C:\\Users\\SHAKIB\\anaconda3\\envs\\new_gpu\\lib\\site-packages\\ipykernel\\kernelbase.py\", line 406, in dispatch_shell\n      await result\n    File \"C:\\Users\\SHAKIB\\anaconda3\\envs\\new_gpu\\lib\\site-packages\\ipykernel\\kernelbase.py\", line 730, in execute_request\n      reply_content = await reply_content\n    File \"C:\\Users\\SHAKIB\\anaconda3\\envs\\new_gpu\\lib\\site-packages\\ipykernel\\ipkernel.py\", line 390, in do_execute\n      res = shell.run_cell(code, store_history=store_history, silent=silent)\n    File \"C:\\Users\\SHAKIB\\anaconda3\\envs\\new_gpu\\lib\\site-packages\\ipykernel\\zmqshell.py\", line 528, in run_cell\n      return super().run_cell(*args, **kwargs)\n    File \"C:\\Users\\SHAKIB\\anaconda3\\envs\\new_gpu\\lib\\site-packages\\IPython\\core\\interactiveshell.py\", line 2915, in run_cell\n      raw_cell, store_history, silent, shell_futures)\n    File \"C:\\Users\\SHAKIB\\anaconda3\\envs\\new_gpu\\lib\\site-packages\\IPython\\core\\interactiveshell.py\", line 2960, in _run_cell\n      return runner(coro)\n    File \"C:\\Users\\SHAKIB\\anaconda3\\envs\\new_gpu\\lib\\site-packages\\IPython\\core\\async_helpers.py\", line 78, in _pseudo_sync_runner\n      coro.send(None)\n    File \"C:\\Users\\SHAKIB\\anaconda3\\envs\\new_gpu\\lib\\site-packages\\IPython\\core\\interactiveshell.py\", line 3186, in run_cell_async\n      interactivity=interactivity, compiler=compiler, result=result)\n    File \"C:\\Users\\SHAKIB\\anaconda3\\envs\\new_gpu\\lib\\site-packages\\IPython\\core\\interactiveshell.py\", line 3377, in run_ast_nodes\n      if (await self.run_code(code, result,  async_=asy)):\n    File \"C:\\Users\\SHAKIB\\anaconda3\\envs\\new_gpu\\lib\\site-packages\\IPython\\core\\interactiveshell.py\", line 3457, in run_code\n      exec(code_obj, self.user_global_ns, self.user_ns)\n    File \"C:\\Users\\SHAKIB\\AppData\\Local\\Temp\\ipykernel_20412\\909613098.py\", line 18, in <module>\n      predictions = model.predict(test_data)\n    File \"C:\\Users\\SHAKIB\\anaconda3\\envs\\new_gpu\\lib\\site-packages\\keras\\utils\\traceback_utils.py\", line 65, in error_handler\n      return fn(*args, **kwargs)\n    File \"C:\\Users\\SHAKIB\\anaconda3\\envs\\new_gpu\\lib\\site-packages\\keras\\engine\\training.py\", line 2253, in predict\n      tmp_batch_outputs = self.predict_function(iterator)\n    File \"C:\\Users\\SHAKIB\\anaconda3\\envs\\new_gpu\\lib\\site-packages\\keras\\engine\\training.py\", line 2041, in predict_function\n      return step_function(self, iterator)\n    File \"C:\\Users\\SHAKIB\\anaconda3\\envs\\new_gpu\\lib\\site-packages\\keras\\engine\\training.py\", line 2027, in step_function\n      outputs = model.distribute_strategy.run(run_step, args=(data,))\n    File \"C:\\Users\\SHAKIB\\anaconda3\\envs\\new_gpu\\lib\\site-packages\\keras\\engine\\training.py\", line 2015, in run_step\n      outputs = model.predict_step(data)\n    File \"C:\\Users\\SHAKIB\\anaconda3\\envs\\new_gpu\\lib\\site-packages\\keras\\engine\\training.py\", line 1983, in predict_step\n      return self(x, training=False)\n    File \"C:\\Users\\SHAKIB\\anaconda3\\envs\\new_gpu\\lib\\site-packages\\keras\\utils\\traceback_utils.py\", line 65, in error_handler\n      return fn(*args, **kwargs)\n    File \"C:\\Users\\SHAKIB\\anaconda3\\envs\\new_gpu\\lib\\site-packages\\keras\\engine\\training.py\", line 557, in __call__\n      return super().__call__(*args, **kwargs)\n    File \"C:\\Users\\SHAKIB\\anaconda3\\envs\\new_gpu\\lib\\site-packages\\keras\\utils\\traceback_utils.py\", line 65, in error_handler\n      return fn(*args, **kwargs)\n    File \"C:\\Users\\SHAKIB\\anaconda3\\envs\\new_gpu\\lib\\site-packages\\keras\\engine\\base_layer.py\", line 1097, in __call__\n      outputs = call_fn(inputs, *args, **kwargs)\n    File \"C:\\Users\\SHAKIB\\anaconda3\\envs\\new_gpu\\lib\\site-packages\\keras\\utils\\traceback_utils.py\", line 96, in error_handler\n      return fn(*args, **kwargs)\n    File \"C:\\Users\\SHAKIB\\anaconda3\\envs\\new_gpu\\lib\\site-packages\\keras\\engine\\sequential.py\", line 410, in call\n      return super().call(inputs, training=training, mask=mask)\n    File \"C:\\Users\\SHAKIB\\anaconda3\\envs\\new_gpu\\lib\\site-packages\\keras\\engine\\functional.py\", line 510, in call\n      return self._run_internal_graph(inputs, training=training, mask=mask)\n    File \"C:\\Users\\SHAKIB\\anaconda3\\envs\\new_gpu\\lib\\site-packages\\keras\\engine\\functional.py\", line 667, in _run_internal_graph\n      outputs = node.layer(*args, **kwargs)\n    File \"C:\\Users\\SHAKIB\\anaconda3\\envs\\new_gpu\\lib\\site-packages\\keras\\utils\\traceback_utils.py\", line 65, in error_handler\n      return fn(*args, **kwargs)\n    File \"C:\\Users\\SHAKIB\\anaconda3\\envs\\new_gpu\\lib\\site-packages\\keras\\engine\\base_layer.py\", line 1097, in __call__\n      outputs = call_fn(inputs, *args, **kwargs)\n    File \"C:\\Users\\SHAKIB\\anaconda3\\envs\\new_gpu\\lib\\site-packages\\keras\\utils\\traceback_utils.py\", line 96, in error_handler\n      return fn(*args, **kwargs)\n    File \"C:\\Users\\SHAKIB\\anaconda3\\envs\\new_gpu\\lib\\site-packages\\keras\\layers\\reshaping\\flatten.py\", line 104, in call\n      return tf.reshape(inputs, flattened_shape)\nNode: 'sequential/flatten/Reshape'\nInput to reshape is a tensor with 10322560 values, but the requested shape requires a multiple of 1499904\n\t [[{{node sequential/flatten/Reshape}}]] [Op:__inference_predict_function_3466]",
     "output_type": "error",
     "traceback": [
      "\u001b[1;31m---------------------------------------------------------------------------\u001b[0m",
      "\u001b[1;31mInvalidArgumentError\u001b[0m                      Traceback (most recent call last)",
      "\u001b[1;32m~\\AppData\\Local\\Temp\\ipykernel_20412\\909613098.py\u001b[0m in \u001b[0;36m<module>\u001b[1;34m\u001b[0m\n\u001b[0;32m     16\u001b[0m \u001b[1;33m\u001b[0m\u001b[0m\n\u001b[0;32m     17\u001b[0m \u001b[1;31m# Make predictions on the test images\u001b[0m\u001b[1;33m\u001b[0m\u001b[1;33m\u001b[0m\u001b[1;33m\u001b[0m\u001b[0m\n\u001b[1;32m---> 18\u001b[1;33m \u001b[0mpredictions\u001b[0m \u001b[1;33m=\u001b[0m \u001b[0mmodel\u001b[0m\u001b[1;33m.\u001b[0m\u001b[0mpredict\u001b[0m\u001b[1;33m(\u001b[0m\u001b[0mtest_data\u001b[0m\u001b[1;33m)\u001b[0m\u001b[1;33m\u001b[0m\u001b[1;33m\u001b[0m\u001b[0m\n\u001b[0m\u001b[0;32m     19\u001b[0m \u001b[0mpredicted_classes\u001b[0m \u001b[1;33m=\u001b[0m \u001b[0mnp\u001b[0m\u001b[1;33m.\u001b[0m\u001b[0margmax\u001b[0m\u001b[1;33m(\u001b[0m\u001b[0mpredictions\u001b[0m\u001b[1;33m,\u001b[0m \u001b[0maxis\u001b[0m\u001b[1;33m=\u001b[0m\u001b[1;36m1\u001b[0m\u001b[1;33m)\u001b[0m\u001b[1;33m\u001b[0m\u001b[1;33m\u001b[0m\u001b[0m\n\u001b[0;32m     20\u001b[0m \u001b[1;33m\u001b[0m\u001b[0m\n",
      "\u001b[1;32m~\\anaconda3\\envs\\new_gpu\\lib\\site-packages\\keras\\utils\\traceback_utils.py\u001b[0m in \u001b[0;36merror_handler\u001b[1;34m(*args, **kwargs)\u001b[0m\n\u001b[0;32m     68\u001b[0m             \u001b[1;31m# To get the full stack trace, call:\u001b[0m\u001b[1;33m\u001b[0m\u001b[1;33m\u001b[0m\u001b[1;33m\u001b[0m\u001b[0m\n\u001b[0;32m     69\u001b[0m             \u001b[1;31m# `tf.debugging.disable_traceback_filtering()`\u001b[0m\u001b[1;33m\u001b[0m\u001b[1;33m\u001b[0m\u001b[1;33m\u001b[0m\u001b[0m\n\u001b[1;32m---> 70\u001b[1;33m             \u001b[1;32mraise\u001b[0m \u001b[0me\u001b[0m\u001b[1;33m.\u001b[0m\u001b[0mwith_traceback\u001b[0m\u001b[1;33m(\u001b[0m\u001b[0mfiltered_tb\u001b[0m\u001b[1;33m)\u001b[0m \u001b[1;32mfrom\u001b[0m \u001b[1;32mNone\u001b[0m\u001b[1;33m\u001b[0m\u001b[1;33m\u001b[0m\u001b[0m\n\u001b[0m\u001b[0;32m     71\u001b[0m         \u001b[1;32mfinally\u001b[0m\u001b[1;33m:\u001b[0m\u001b[1;33m\u001b[0m\u001b[1;33m\u001b[0m\u001b[0m\n\u001b[0;32m     72\u001b[0m             \u001b[1;32mdel\u001b[0m \u001b[0mfiltered_tb\u001b[0m\u001b[1;33m\u001b[0m\u001b[1;33m\u001b[0m\u001b[0m\n",
      "\u001b[1;32m~\\anaconda3\\envs\\new_gpu\\lib\\site-packages\\tensorflow\\python\\eager\\execute.py\u001b[0m in \u001b[0;36mquick_execute\u001b[1;34m(op_name, num_outputs, inputs, attrs, ctx, name)\u001b[0m\n\u001b[0;32m     53\u001b[0m     \u001b[0mctx\u001b[0m\u001b[1;33m.\u001b[0m\u001b[0mensure_initialized\u001b[0m\u001b[1;33m(\u001b[0m\u001b[1;33m)\u001b[0m\u001b[1;33m\u001b[0m\u001b[1;33m\u001b[0m\u001b[0m\n\u001b[0;32m     54\u001b[0m     tensors = pywrap_tfe.TFE_Py_Execute(ctx._handle, device_name, op_name,\n\u001b[1;32m---> 55\u001b[1;33m                                         inputs, attrs, num_outputs)\n\u001b[0m\u001b[0;32m     56\u001b[0m   \u001b[1;32mexcept\u001b[0m \u001b[0mcore\u001b[0m\u001b[1;33m.\u001b[0m\u001b[0m_NotOkStatusException\u001b[0m \u001b[1;32mas\u001b[0m \u001b[0me\u001b[0m\u001b[1;33m:\u001b[0m\u001b[1;33m\u001b[0m\u001b[1;33m\u001b[0m\u001b[0m\n\u001b[0;32m     57\u001b[0m     \u001b[1;32mif\u001b[0m \u001b[0mname\u001b[0m \u001b[1;32mis\u001b[0m \u001b[1;32mnot\u001b[0m \u001b[1;32mNone\u001b[0m\u001b[1;33m:\u001b[0m\u001b[1;33m\u001b[0m\u001b[1;33m\u001b[0m\u001b[0m\n",
      "\u001b[1;31mInvalidArgumentError\u001b[0m: Graph execution error:\n\nDetected at node 'sequential/flatten/Reshape' defined at (most recent call last):\n    File \"C:\\Users\\SHAKIB\\anaconda3\\envs\\new_gpu\\lib\\runpy.py\", line 193, in _run_module_as_main\n      \"__main__\", mod_spec)\n    File \"C:\\Users\\SHAKIB\\anaconda3\\envs\\new_gpu\\lib\\runpy.py\", line 85, in _run_code\n      exec(code, run_globals)\n    File \"C:\\Users\\SHAKIB\\anaconda3\\envs\\new_gpu\\lib\\site-packages\\ipykernel_launcher.py\", line 17, in <module>\n      app.launch_new_instance()\n    File \"C:\\Users\\SHAKIB\\anaconda3\\envs\\new_gpu\\lib\\site-packages\\traitlets\\config\\application.py\", line 992, in launch_instance\n      app.start()\n    File \"C:\\Users\\SHAKIB\\anaconda3\\envs\\new_gpu\\lib\\site-packages\\ipykernel\\kernelapp.py\", line 712, in start\n      self.io_loop.start()\n    File \"C:\\Users\\SHAKIB\\anaconda3\\envs\\new_gpu\\lib\\site-packages\\tornado\\platform\\asyncio.py\", line 215, in start\n      self.asyncio_loop.run_forever()\n    File \"C:\\Users\\SHAKIB\\anaconda3\\envs\\new_gpu\\lib\\asyncio\\base_events.py\", line 541, in run_forever\n      self._run_once()\n    File \"C:\\Users\\SHAKIB\\anaconda3\\envs\\new_gpu\\lib\\asyncio\\base_events.py\", line 1786, in _run_once\n      handle._run()\n    File \"C:\\Users\\SHAKIB\\anaconda3\\envs\\new_gpu\\lib\\asyncio\\events.py\", line 88, in _run\n      self._context.run(self._callback, *self._args)\n    File \"C:\\Users\\SHAKIB\\anaconda3\\envs\\new_gpu\\lib\\site-packages\\ipykernel\\kernelbase.py\", line 510, in dispatch_queue\n      await self.process_one()\n    File \"C:\\Users\\SHAKIB\\anaconda3\\envs\\new_gpu\\lib\\site-packages\\ipykernel\\kernelbase.py\", line 499, in process_one\n      await dispatch(*args)\n    File \"C:\\Users\\SHAKIB\\anaconda3\\envs\\new_gpu\\lib\\site-packages\\ipykernel\\kernelbase.py\", line 406, in dispatch_shell\n      await result\n    File \"C:\\Users\\SHAKIB\\anaconda3\\envs\\new_gpu\\lib\\site-packages\\ipykernel\\kernelbase.py\", line 730, in execute_request\n      reply_content = await reply_content\n    File \"C:\\Users\\SHAKIB\\anaconda3\\envs\\new_gpu\\lib\\site-packages\\ipykernel\\ipkernel.py\", line 390, in do_execute\n      res = shell.run_cell(code, store_history=store_history, silent=silent)\n    File \"C:\\Users\\SHAKIB\\anaconda3\\envs\\new_gpu\\lib\\site-packages\\ipykernel\\zmqshell.py\", line 528, in run_cell\n      return super().run_cell(*args, **kwargs)\n    File \"C:\\Users\\SHAKIB\\anaconda3\\envs\\new_gpu\\lib\\site-packages\\IPython\\core\\interactiveshell.py\", line 2915, in run_cell\n      raw_cell, store_history, silent, shell_futures)\n    File \"C:\\Users\\SHAKIB\\anaconda3\\envs\\new_gpu\\lib\\site-packages\\IPython\\core\\interactiveshell.py\", line 2960, in _run_cell\n      return runner(coro)\n    File \"C:\\Users\\SHAKIB\\anaconda3\\envs\\new_gpu\\lib\\site-packages\\IPython\\core\\async_helpers.py\", line 78, in _pseudo_sync_runner\n      coro.send(None)\n    File \"C:\\Users\\SHAKIB\\anaconda3\\envs\\new_gpu\\lib\\site-packages\\IPython\\core\\interactiveshell.py\", line 3186, in run_cell_async\n      interactivity=interactivity, compiler=compiler, result=result)\n    File \"C:\\Users\\SHAKIB\\anaconda3\\envs\\new_gpu\\lib\\site-packages\\IPython\\core\\interactiveshell.py\", line 3377, in run_ast_nodes\n      if (await self.run_code(code, result,  async_=asy)):\n    File \"C:\\Users\\SHAKIB\\anaconda3\\envs\\new_gpu\\lib\\site-packages\\IPython\\core\\interactiveshell.py\", line 3457, in run_code\n      exec(code_obj, self.user_global_ns, self.user_ns)\n    File \"C:\\Users\\SHAKIB\\AppData\\Local\\Temp\\ipykernel_20412\\909613098.py\", line 18, in <module>\n      predictions = model.predict(test_data)\n    File \"C:\\Users\\SHAKIB\\anaconda3\\envs\\new_gpu\\lib\\site-packages\\keras\\utils\\traceback_utils.py\", line 65, in error_handler\n      return fn(*args, **kwargs)\n    File \"C:\\Users\\SHAKIB\\anaconda3\\envs\\new_gpu\\lib\\site-packages\\keras\\engine\\training.py\", line 2253, in predict\n      tmp_batch_outputs = self.predict_function(iterator)\n    File \"C:\\Users\\SHAKIB\\anaconda3\\envs\\new_gpu\\lib\\site-packages\\keras\\engine\\training.py\", line 2041, in predict_function\n      return step_function(self, iterator)\n    File \"C:\\Users\\SHAKIB\\anaconda3\\envs\\new_gpu\\lib\\site-packages\\keras\\engine\\training.py\", line 2027, in step_function\n      outputs = model.distribute_strategy.run(run_step, args=(data,))\n    File \"C:\\Users\\SHAKIB\\anaconda3\\envs\\new_gpu\\lib\\site-packages\\keras\\engine\\training.py\", line 2015, in run_step\n      outputs = model.predict_step(data)\n    File \"C:\\Users\\SHAKIB\\anaconda3\\envs\\new_gpu\\lib\\site-packages\\keras\\engine\\training.py\", line 1983, in predict_step\n      return self(x, training=False)\n    File \"C:\\Users\\SHAKIB\\anaconda3\\envs\\new_gpu\\lib\\site-packages\\keras\\utils\\traceback_utils.py\", line 65, in error_handler\n      return fn(*args, **kwargs)\n    File \"C:\\Users\\SHAKIB\\anaconda3\\envs\\new_gpu\\lib\\site-packages\\keras\\engine\\training.py\", line 557, in __call__\n      return super().__call__(*args, **kwargs)\n    File \"C:\\Users\\SHAKIB\\anaconda3\\envs\\new_gpu\\lib\\site-packages\\keras\\utils\\traceback_utils.py\", line 65, in error_handler\n      return fn(*args, **kwargs)\n    File \"C:\\Users\\SHAKIB\\anaconda3\\envs\\new_gpu\\lib\\site-packages\\keras\\engine\\base_layer.py\", line 1097, in __call__\n      outputs = call_fn(inputs, *args, **kwargs)\n    File \"C:\\Users\\SHAKIB\\anaconda3\\envs\\new_gpu\\lib\\site-packages\\keras\\utils\\traceback_utils.py\", line 96, in error_handler\n      return fn(*args, **kwargs)\n    File \"C:\\Users\\SHAKIB\\anaconda3\\envs\\new_gpu\\lib\\site-packages\\keras\\engine\\sequential.py\", line 410, in call\n      return super().call(inputs, training=training, mask=mask)\n    File \"C:\\Users\\SHAKIB\\anaconda3\\envs\\new_gpu\\lib\\site-packages\\keras\\engine\\functional.py\", line 510, in call\n      return self._run_internal_graph(inputs, training=training, mask=mask)\n    File \"C:\\Users\\SHAKIB\\anaconda3\\envs\\new_gpu\\lib\\site-packages\\keras\\engine\\functional.py\", line 667, in _run_internal_graph\n      outputs = node.layer(*args, **kwargs)\n    File \"C:\\Users\\SHAKIB\\anaconda3\\envs\\new_gpu\\lib\\site-packages\\keras\\utils\\traceback_utils.py\", line 65, in error_handler\n      return fn(*args, **kwargs)\n    File \"C:\\Users\\SHAKIB\\anaconda3\\envs\\new_gpu\\lib\\site-packages\\keras\\engine\\base_layer.py\", line 1097, in __call__\n      outputs = call_fn(inputs, *args, **kwargs)\n    File \"C:\\Users\\SHAKIB\\anaconda3\\envs\\new_gpu\\lib\\site-packages\\keras\\utils\\traceback_utils.py\", line 96, in error_handler\n      return fn(*args, **kwargs)\n    File \"C:\\Users\\SHAKIB\\anaconda3\\envs\\new_gpu\\lib\\site-packages\\keras\\layers\\reshaping\\flatten.py\", line 104, in call\n      return tf.reshape(inputs, flattened_shape)\nNode: 'sequential/flatten/Reshape'\nInput to reshape is a tensor with 10322560 values, but the requested shape requires a multiple of 1499904\n\t [[{{node sequential/flatten/Reshape}}]] [Op:__inference_predict_function_3466]"
     ]
    }
   ],
   "source": [
    "# Load the saved model\n",
    "#model = keras.models.load_model(\"hand_gesture_model\")\n",
    "\n",
    "# Set the directory path for the test images folder\n",
    "test_data_dir = 'Test/'\n",
    "\n",
    "# Load and preprocess the test images\n",
    "test_image_generator = ImageDataGenerator(rescale=1.0 / 255)\n",
    "test_data = test_image_generator.flow_from_directory(\n",
    "    test_data_dir,\n",
    "    #target_size=image_size,\n",
    "    batch_size=10,\n",
    "    class_mode='sparse',\n",
    "    shuffle=False\n",
    ")\n",
    "\n",
    "# Make predictions on the test images\n",
    "predictions = model.predict(test_data)\n",
    "predicted_classes = np.argmax(predictions, axis=1)\n",
    "\n",
    "# Obtain the true labels for the test images\n",
    "true_classes = test_data.labels\n",
    "\n",
    "# Calculate accuracy\n",
    "accuracy = np.mean(predicted_classes == true_classes)\n",
    "accuracy_percentage = round(accuracy * 100, 4)  # Round accuracy to 4 decimal places\n",
    "print(\"Accuracy:\",accuracy_percentage,\"%\")\n",
    "\n",
    "# Print the predicted classes for each test image\n",
    "for i, image_path in enumerate(test_data.filepaths):\n",
    "    image_name = image_path.split('/')[-1]  # Extract the image file name\n",
    "    predicted_class = class_names[predicted_classes[i]]\n",
    "    true_class = class_names[true_classes[i]]\n",
    "    print(\"Image:\", image_name)\n",
    "    print(\"Predicted class:\", predicted_class)\n",
    "    print(\"True class:\", true_class)\n",
    "    print()"
   ]
  },
  {
   "cell_type": "markdown",
   "id": "cbe68b54",
   "metadata": {},
   "source": [
    "# Skip from here till below"
   ]
  },
  {
   "cell_type": "code",
   "execution_count": 5,
   "id": "96c42416",
   "metadata": {},
   "outputs": [
    {
     "ename": "PermissionError",
     "evalue": "[Errno 13] Permission denied: 'Test/'",
     "output_type": "error",
     "traceback": [
      "\u001b[1;31m---------------------------------------------------------------------------\u001b[0m",
      "\u001b[1;31mPermissionError\u001b[0m                           Traceback (most recent call last)",
      "Cell \u001b[1;32mIn[5], line 5\u001b[0m\n\u001b[0;32m      1\u001b[0m \u001b[38;5;66;03m# Load the saved model\u001b[39;00m\n\u001b[0;32m      2\u001b[0m \u001b[38;5;66;03m#model = keras.models.load_model(\"hand_gesture_model\")\u001b[39;00m\n\u001b[0;32m      3\u001b[0m \n\u001b[0;32m      4\u001b[0m \u001b[38;5;66;03m# Make predictions on new images\u001b[39;00m\n\u001b[1;32m----> 5\u001b[0m image \u001b[38;5;241m=\u001b[39m \u001b[43mtf\u001b[49m\u001b[38;5;241;43m.\u001b[39;49m\u001b[43mkeras\u001b[49m\u001b[38;5;241;43m.\u001b[39;49m\u001b[43mpreprocessing\u001b[49m\u001b[38;5;241;43m.\u001b[39;49m\u001b[43mimage\u001b[49m\u001b[38;5;241;43m.\u001b[39;49m\u001b[43mload_img\u001b[49m\u001b[43m(\u001b[49m\u001b[38;5;124;43m\"\u001b[39;49m\u001b[38;5;124;43mTest/\u001b[39;49m\u001b[38;5;124;43m\"\u001b[39;49m\u001b[43m,\u001b[49m\u001b[43m \u001b[49m\u001b[43mtarget_size\u001b[49m\u001b[38;5;241;43m=\u001b[39;49m\u001b[43mimage_size\u001b[49m\u001b[43m)\u001b[49m\n\u001b[0;32m      6\u001b[0m input_arr \u001b[38;5;241m=\u001b[39m keras\u001b[38;5;241m.\u001b[39mpreprocessing\u001b[38;5;241m.\u001b[39mimage\u001b[38;5;241m.\u001b[39mimg_to_array(image)\n\u001b[0;32m      7\u001b[0m input_arr \u001b[38;5;241m=\u001b[39m np\u001b[38;5;241m.\u001b[39marray([input_arr])  \u001b[38;5;66;03m# Convert single image to a batch\u001b[39;00m\n",
      "File \u001b[1;32m~\\anaconda3\\lib\\site-packages\\keras\\utils\\image_utils.py:422\u001b[0m, in \u001b[0;36mload_img\u001b[1;34m(path, grayscale, color_mode, target_size, interpolation, keep_aspect_ratio)\u001b[0m\n\u001b[0;32m    420\u001b[0m     \u001b[38;5;28;01mif\u001b[39;00m \u001b[38;5;28misinstance\u001b[39m(path, pathlib\u001b[38;5;241m.\u001b[39mPath):\n\u001b[0;32m    421\u001b[0m         path \u001b[38;5;241m=\u001b[39m \u001b[38;5;28mstr\u001b[39m(path\u001b[38;5;241m.\u001b[39mresolve())\n\u001b[1;32m--> 422\u001b[0m     \u001b[38;5;28;01mwith\u001b[39;00m \u001b[38;5;28;43mopen\u001b[39;49m\u001b[43m(\u001b[49m\u001b[43mpath\u001b[49m\u001b[43m,\u001b[49m\u001b[43m \u001b[49m\u001b[38;5;124;43m\"\u001b[39;49m\u001b[38;5;124;43mrb\u001b[39;49m\u001b[38;5;124;43m\"\u001b[39;49m\u001b[43m)\u001b[49m \u001b[38;5;28;01mas\u001b[39;00m f:\n\u001b[0;32m    423\u001b[0m         img \u001b[38;5;241m=\u001b[39m pil_image\u001b[38;5;241m.\u001b[39mopen(io\u001b[38;5;241m.\u001b[39mBytesIO(f\u001b[38;5;241m.\u001b[39mread()))\n\u001b[0;32m    424\u001b[0m \u001b[38;5;28;01melse\u001b[39;00m:\n",
      "\u001b[1;31mPermissionError\u001b[0m: [Errno 13] Permission denied: 'Test/'"
     ]
    }
   ],
   "source": [
    "# Load the saved model\n",
    "#model = keras.models.load_model(\"hand_gesture_model\")\n",
    "\n",
    "# Make predictions on new images\n",
    "image = tf.keras.preprocessing.image.load_img(\"Test/\", target_size=image_size)\n",
    "input_arr = keras.preprocessing.image.img_to_array(image)\n",
    "input_arr = np.array([input_arr])  # Convert single image to a batch\n",
    "predictions = model.predict(input_arr)\n",
    "predicted_class = class_names[np.argmax(predictions[0])]\n",
    "print(\"Predicted class:\", predicted_class)\n"
   ]
  },
  {
   "cell_type": "code",
   "execution_count": null,
   "id": "512b9913",
   "metadata": {},
   "outputs": [],
   "source": [
    "# Load the saved model\n",
    "#model = keras.models.load_model(\"hand_gesture_model\")\n",
    "\n",
    "# Set the directory path for the test images folder\n",
    "test_data_dir = 'Test/'\n",
    "\n",
    "# Load and preprocess the test images\n",
    "test_image_generator = tf.keras.preprocessing.image.ImageDataGenerator(rescale=1.0 / 255)\n",
    "test_data = test_image_generator.flow_from_directory(\n",
    "    test_data_dir,\n",
    "    target_size=image_size,\n",
    "    batch_size=batch_size,\n",
    "    class_mode='sparse',\n",
    "    shuffle=False\n",
    ")\n",
    "\n",
    "# Make predictions on the test images\n",
    "predictions = model.predict(test_data)\n",
    "predicted_classes = np.argmax(predictions, axis=1)\n",
    "\n",
    "# Print the predicted classes for each test image\n",
    "for i, image_path in enumerate(test_data.filepaths):\n",
    "    image_name = image_path.split('/')[-1]  # Extract the image file name\n",
    "    predicted_class = class_names[predicted_classes[i]]\n",
    "    print(\"Image:\", image_name)\n",
    "    print(\"Predicted class:\", predicted_class)\n",
    "    print()\n"
   ]
  },
  {
   "cell_type": "code",
   "execution_count": null,
   "id": "2f836a85",
   "metadata": {},
   "outputs": [],
   "source": []
  },
  {
   "cell_type": "code",
   "execution_count": null,
   "id": "5532d71b",
   "metadata": {},
   "outputs": [],
   "source": []
  }
 ],
 "metadata": {
  "kernelspec": {
   "display_name": "Python 3 (ipykernel)",
   "language": "python",
   "name": "python3"
  },
  "language_info": {
   "codemirror_mode": {
    "name": "ipython",
    "version": 3
   },
   "file_extension": ".py",
   "mimetype": "text/x-python",
   "name": "python",
   "nbconvert_exporter": "python",
   "pygments_lexer": "ipython3",
   "version": "3.7.16"
  }
 },
 "nbformat": 4,
 "nbformat_minor": 5
}
